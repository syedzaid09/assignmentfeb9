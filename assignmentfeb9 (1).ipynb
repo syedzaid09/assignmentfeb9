{
 "cells": [
  {
   "cell_type": "markdown",
   "id": "feec1a02-b8b1-441e-9dd0-2dd730f0d5a3",
   "metadata": {},
   "source": [
    "Qus1.Create a vehicle class with an init method having instance variables as name_of_vehicle, max_speed \n",
    "and average_of_vehicle"
   ]
  },
  {
   "cell_type": "code",
   "execution_count": 2,
   "id": "a6e247d5-541f-4a4e-b9c5-d10d36123c19",
   "metadata": {},
   "outputs": [],
   "source": [
    "class vehicle:\n",
    "    \n",
    "    def __init__(zaid,name_of_vehicle,max_speed,average_of_vehicle):\n",
    "        zaid.name_of_vehicle=name_of_vehicle\n",
    "        zaid.max_speed=max_speed\n",
    "        zaid.average_of_vehicle=average_of_vehicle\n",
    "\n",
    "    def return_vehicle_details(zaid):\n",
    "        return  zaid.name_of_vehicle, zaid.max_speed, zaid.average_of_vehicle\n",
    "        \n"
   ]
  },
  {
   "cell_type": "code",
   "execution_count": 12,
   "id": "0b1805bf-f18b-4034-8960-d1fca9dd8e59",
   "metadata": {},
   "outputs": [],
   "source": [
    "ravi=vehicle(\"wagnor\",150,23)"
   ]
  },
  {
   "cell_type": "code",
   "execution_count": 13,
   "id": "1eab0a7b-4a16-4a2d-807e-b3b1b769e9da",
   "metadata": {},
   "outputs": [],
   "source": [
    "vikas=vehicle(\"audi\",270,20)"
   ]
  },
  {
   "cell_type": "code",
   "execution_count": 14,
   "id": "f1e9f266-afa2-4085-917c-85d6dfa18649",
   "metadata": {},
   "outputs": [
    {
     "data": {
      "text/plain": [
       "('wagnor', 150, 23)"
      ]
     },
     "execution_count": 14,
     "metadata": {},
     "output_type": "execute_result"
    }
   ],
   "source": [
    "ravi.return_vehicle_details()"
   ]
  },
  {
   "cell_type": "code",
   "execution_count": 15,
   "id": "8ef8a635-8e6e-403a-9e55-594e002857eb",
   "metadata": {},
   "outputs": [
    {
     "data": {
      "text/plain": [
       "('audi', 270, 20)"
      ]
     },
     "execution_count": 15,
     "metadata": {},
     "output_type": "execute_result"
    }
   ],
   "source": [
    "vikas.return_vehicle_details()"
   ]
  },
  {
   "cell_type": "markdown",
   "id": "2c8d6247-5226-4f90-ba63-e4643ddc6e2f",
   "metadata": {},
   "source": [
    "Qus2.Create a child class car from the vehicle class created in Que 1, which will inherit the vehicle class. Create a method named seating_capacity which takes capacity as an argument and returns the name of the vehicle and its seating capacity"
   ]
  },
  {
   "cell_type": "code",
   "execution_count": 24,
   "id": "1a728011-ecdf-4f5e-a3c4-0811db99f0a7",
   "metadata": {},
   "outputs": [
    {
     "name": "stdout",
     "output_type": "stream",
     "text": [
      "toyota has a seating capacity of 4 people\n"
     ]
    }
   ],
   "source": [
    "class vehicle:\n",
    "    \n",
    "    def __init__(zaid,name_of_vehicle,max_speed,average_of_vehicle):\n",
    "        zaid.name_of_vehicle=name_of_vehicle\n",
    "        zaid.max_speed=max_speed\n",
    "        zaid.average_of_vehicle=average_of_vehicle\n",
    "\n",
    "    def return_vehicle_details(zaid):\n",
    "        return  zaid.name_of_vehicle, zaid.max_speed, zaid.average_of_vehicle\n",
    "        \n",
    "\n",
    "class Car(vehicle):\n",
    "    def seating_capacity(zaid,capacity):\n",
    "            return f\"{zaid.name_of_vehicle} has a seating capacity of {capacity} people\"\n",
    "        \n",
    "my_car=Car(\"toyota\",\"red\",100)\n",
    "\n",
    "result=my_car.seating_capacity(4)\n",
    "\n",
    "print(result)"
   ]
  },
  {
   "cell_type": "markdown",
   "id": "44581334-20ca-4f8e-a0e4-d0c5cf0845a3",
   "metadata": {},
   "source": [
    "Qus3.What is multiple inheritance? Write a python code to demonstrate multiple inheritance."
   ]
  },
  {
   "cell_type": "markdown",
   "id": "09e6d442-32fc-416c-a176-939af5fb9746",
   "metadata": {},
   "source": [
    "In Python class can be derived from more than one base class.this is called multiple inheritance.\n",
    "In multiple inheritance,the features of all the base classes are inherited into the derived class.\n"
   ]
  },
  {
   "cell_type": "code",
   "execution_count": 12,
   "id": "9475c30b-bccc-47ef-9e6f-57a7483705cf",
   "metadata": {},
   "outputs": [
    {
     "data": {
      "text/plain": [
       "'this is a meth from class2'"
      ]
     },
     "execution_count": 12,
     "metadata": {},
     "output_type": "execute_result"
    }
   ],
   "source": [
    "class class1:\n",
    "    def test_class1(self):\n",
    "        return \"this is a meth from class1\"\n",
    "    \n",
    "class class2:\n",
    "    def test_class2(self):\n",
    "        return \"this is a meth from class2\" \n",
    "    \n",
    "class class3(class1,class2):\n",
    "    pass\n",
    "\n",
    "obj_class3=class3()\n",
    "obj_class3.test_class2()"
   ]
  },
  {
   "cell_type": "markdown",
   "id": "54ac3ad8-187e-48e3-a1dd-0857ea72dce4",
   "metadata": {},
   "source": [
    "Qus4. What are getter and setter in python? Create a class and create a getter and a setter method in this class."
   ]
  },
  {
   "cell_type": "markdown",
   "id": "7a58645d-b1af-48e2-be94-6d34b7c97194",
   "metadata": {},
   "source": [
    "Getter:\n",
    "a getter method is a method that is used to retrieve the value of an attribute of an object. It is a way to access an object’s attribute value, without directly accessing the attribute itself.\n",
    "\n",
    "Setter:\n",
    "a setter method is a method that is used to set the value of an attribute of an object. It is a way to modify an object’s attribute value, without directly accessing the attribute itself.\n"
   ]
  },
  {
   "cell_type": "code",
   "execution_count": 16,
   "id": "4d180d73-e023-46cd-939e-93ff64dd6e86",
   "metadata": {},
   "outputs": [
    {
     "data": {
      "text/plain": [
       "254"
      ]
     },
     "execution_count": 16,
     "metadata": {},
     "output_type": "execute_result"
    }
   ],
   "source": [
    "class car:\n",
    "    def __init__(self,year,make,model,speed):\n",
    "        self.__year=year\n",
    "        self.__make=make\n",
    "        self.__model=model\n",
    "        self.__speed=0\n",
    "    \n",
    "    def set_speed(self,speed):\n",
    "        self.__speed= 0 if speed <0 else speed\n",
    "        \n",
    "    def get_speed(self):\n",
    "        return self.__speed\n",
    "    \n",
    "c=car(2021,\"toyata\",\"innova\",12)\n",
    "c._car__year\n",
    "c.set_speed(254)\n",
    "c.get_speed()"
   ]
  },
  {
   "cell_type": "markdown",
   "id": "97a8e92e-9147-42bc-a8f6-8f75ebd46949",
   "metadata": {},
   "source": [
    "Qus.5What is method overriding in python? Write a python code to demonstrate method overriding."
   ]
  },
  {
   "cell_type": "markdown",
   "id": "ba5081d8-b475-4c8c-94cd-f6377a2b334f",
   "metadata": {},
   "source": [
    "Method overriding is an ability of any object-oriented programming language that allows a subclass or child class to provide a specific implementation of a method that is already provided by one of its super-classes or parent classes. When a method in a subclass has the same name, same parameters or signature and same return type(or sub-type) as a method in its super-class, then the method in the subclass is said to override the method in the super-class."
   ]
  },
  {
   "cell_type": "code",
   "execution_count": 17,
   "id": "9cd68785-1c9b-445f-b29e-d8dfeab67501",
   "metadata": {},
   "outputs": [
    {
     "name": "stdout",
     "output_type": "stream",
     "text": [
      "Age:24,Name:zaid\n"
     ]
    }
   ],
   "source": [
    "class person:\n",
    "    def __init__(self,age,name):\n",
    "        self.age=age\n",
    "        self.name=name\n",
    "    \n",
    "    def __str__(self):\n",
    "        return f\"Age:{self.age},Name:{self.name}\"\n",
    "    \n",
    "class Emp(person):\n",
    "    def __init__(self,age,name,id,sal):\n",
    "        super().__init__(age,name)\n",
    "        self.id=id\n",
    "        self.sal=sal\n",
    "        \n",
    "e=Emp(24,\"zaid\",101,4500)\n",
    "print(e)"
   ]
  },
  {
   "cell_type": "code",
   "execution_count": null,
   "id": "2a664eef-65c0-474e-988e-a5317b81ef5e",
   "metadata": {},
   "outputs": [],
   "source": []
  }
 ],
 "metadata": {
  "kernelspec": {
   "display_name": "Python 3 (ipykernel)",
   "language": "python",
   "name": "python3"
  },
  "language_info": {
   "codemirror_mode": {
    "name": "ipython",
    "version": 3
   },
   "file_extension": ".py",
   "mimetype": "text/x-python",
   "name": "python",
   "nbconvert_exporter": "python",
   "pygments_lexer": "ipython3",
   "version": "3.10.8"
  }
 },
 "nbformat": 4,
 "nbformat_minor": 5
}
